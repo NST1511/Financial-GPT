{
 "cells": [
  {
   "cell_type": "code",
   "execution_count": 3,
   "id": "f10c150e-a40e-452d-bbd3-d53fbc9b6038",
   "metadata": {},
   "outputs": [],
   "source": [
    "import os\n",
    "import openai\n",
    "from langchain.embeddings.openai import OpenAIEmbeddings\n",
    "from langchain.vectorstores import Chroma\n",
    "from langchain.chains import RetrievalQA\n",
    "from langchain.chat_models import ChatOpenAI\n",
    "import tkinter as tk\n",
    "\n",
    "def ask_question():\n",
    "    question = question_entry.get()\n",
    "    result = qa_chain({\"query\": question})\n",
    "    result_label.config(text=\"Answer: \" + result[\"result\"])\n",
    "\n",
    "def close_window():\n",
    "    root.destroy()\n",
    "\n",
    "# Initialize OpenAI embeddings\n",
    "openai.api_key  = os.environ['OPENAI_API_KEY']\n",
    "embedding = OpenAIEmbeddings()\n",
    "\n",
    "# Specify the directory for persistent storage\n",
    "persist_directory = 'docs/chroma/financialgpt'\n",
    "\n",
    "# Initialize Chroma with embeddings and directory\n",
    "vectordb = Chroma(persist_directory=persist_directory, embedding_function=embedding)\n",
    "\n",
    "# Initialize ChatOpenAI with temperature set to 0\n",
    "llm = ChatOpenAI(temperature=0)\n",
    "\n",
    "# Set up RetrievalQA with the language model and retriever\n",
    "qa_chain = RetrievalQA.from_chain_type(llm, retriever=vectordb.as_retriever(search_kwargs={\"k\": 3}))  #retrieve 3 chunks that have the highest similarity score\n",
    "\n",
    "# Create the main window\n",
    "root = tk.Tk()\n",
    "root.title(\"Question Answering System\")\n",
    "\n",
    "# Create a label and entry for inputting questions\n",
    "question_label = tk.Label(root, text=\"Enter your question:\")\n",
    "question_label.pack()\n",
    "question_entry = tk.Entry(root, width=50)\n",
    "question_entry.pack()\n",
    "\n",
    "# Create a button to ask the question\n",
    "ask_button = tk.Button(root, text=\"Ask\", command=ask_question)\n",
    "ask_button.pack()\n",
    "\n",
    "# Create a label to display the result with a larger text box\n",
    "result_label = tk.Label(root, text=\"\", wraplength=500, justify=\"left\", height=10)\n",
    "result_label.pack()\n",
    "\n",
    "# Create a button to close the window\n",
    "close_button = tk.Button(root, text=\"Close\", command=close_window)\n",
    "close_button.pack()\n",
    "\n",
    "root.mainloop()\n"
   ]
  }
 ],
 "metadata": {
  "kernelspec": {
   "display_name": "Python 3 (ipykernel)",
   "language": "python",
   "name": "python3"
  },
  "language_info": {
   "codemirror_mode": {
    "name": "ipython",
    "version": 3
   },
   "file_extension": ".py",
   "mimetype": "text/x-python",
   "name": "python",
   "nbconvert_exporter": "python",
   "pygments_lexer": "ipython3",
   "version": "3.10.6"
  }
 },
 "nbformat": 4,
 "nbformat_minor": 5
}
