{
 "cells": [
  {
   "cell_type": "code",
   "execution_count": 2,
   "id": "282471bf-1aee-4eba-94cf-722726719d68",
   "metadata": {},
   "outputs": [],
   "source": [
    "import os\n",
    "import openai\n",
    "import sys\n",
    "sys.path.append('../..')\n",
    "import shutil\n",
    "\n",
    "from dotenv import load_dotenv, find_dotenv\n",
    "_ = load_dotenv(find_dotenv()) # read local .env file\n",
    "\n",
    "from langchain.document_loaders import PyPDFLoader\n",
    "from langchain.text_splitter import RecursiveCharacterTextSplitter\n",
    "from langchain.embeddings.openai import OpenAIEmbeddings\n",
    "from langchain.vectorstores import Chroma"
   ]
  },
  {
   "cell_type": "code",
   "execution_count": 3,
   "id": "bb52386e-a8fe-4547-8165-710ce0af29bc",
   "metadata": {},
   "outputs": [],
   "source": [
    "openai.api_key  = os.environ['OPENAI_API_KEY']"
   ]
  },
  {
   "cell_type": "code",
   "execution_count": 4,
   "id": "2cab2d73-d1fb-4524-894f-87730b720571",
   "metadata": {},
   "outputs": [],
   "source": [
    "# Load PDF\n",
    "loaders = [\n",
    "    PyPDFLoader(\"input data/pdfwithtable_watersector1.pdf\"),\n",
    "    PyPDFLoader(\"input data/pdfwithtable_watersector2.pdf\"),\n",
    "    PyPDFLoader(\"input data/pdfwithtable_energysector1.pdf\"),\n",
    "]\n",
    "docs = []\n",
    "for loader in loaders:\n",
    "    docs.extend(loader.load())"
   ]
  },
  {
   "cell_type": "code",
   "execution_count": 5,
   "id": "ed443987-ca99-4dc1-805a-d0d90d5d7667",
   "metadata": {},
   "outputs": [],
   "source": [
    "# Split\n",
    "text_splitter = RecursiveCharacterTextSplitter(\n",
    "    chunk_size = 1500,  #the smaller the more precise (but lose context) \n",
    "    chunk_overlap = 200 \n",
    ")"
   ]
  },
  {
   "cell_type": "code",
   "execution_count": 6,
   "id": "f5434de1-2867-47a2-8590-45fdeb23b716",
   "metadata": {},
   "outputs": [
    {
     "data": {
      "text/plain": [
       "78"
      ]
     },
     "execution_count": 6,
     "metadata": {},
     "output_type": "execute_result"
    }
   ],
   "source": [
    "splits = text_splitter.split_documents(docs)\n",
    "len(splits)"
   ]
  },
  {
   "cell_type": "code",
   "execution_count": 7,
   "id": "1f26d1bf-4dac-4344-b189-4071773c6978",
   "metadata": {},
   "outputs": [
    {
     "data": {
      "text/plain": [
       "Document(page_content='See important disclosure at the end of this document www.vcsc.com.vn  | VCSC<GO>  February 14, 2023 | 2 \\n \\nIndustry Update  \\nBinh Duong Province set its 2023 GRDP target slightly higher than that of \\n2022  \\n 2022 GRDP increased 8.3% YoY  as all three main sectors of the economy \\nperformed strongly. Specifically, the agricultural sector rose 3.1% YoY, the industrial-construction \\nsector rose 8.2% YoY and the services sector rose 9.5% YoY.  \\nProvincial leaders set 2023 targets  for GRDP to increase 8.5%-8.7% YoY and the Index of \\nIndustrial Production (IIP) to rise 8.9% YoY. Core tasks in 2023 include progressing with a modern \\nprovincial road transport infrastructure network and facilitating interregional connections. The focus \\nis on the Ring Road No. 3 project, the HCMC  Thu Dau Mot - Chon Thanh  Binh Phuoc \\nExpressway, the Bau Bang  Cai Mep (Vung Tau) railway and the Song Than Intersection. \\nAn all-time high amount of high public investment in 2023 will accelerate key infrastructure \\nprojects.  According to the pr  statement on February 7, Binh Duong \\nProvince has been assigned to disburse nearly VND21.8tn (USD909million) of public investment \\ncapital in 2023. In January 2023, the public investment index jumped 63.6% YoY to VND545bn to \\nboost investment in major transport projects.  \\nAccording to the General Statistics Office of Vietnam, socioeconomic \\nindicators were weak in January 2023  as IIP slumped 11.2% YoY, which was mainly due to a', metadata={'source': 'input data/pdfwithtable_watersector1.pdf', 'page': 1})"
      ]
     },
     "execution_count": 7,
     "metadata": {},
     "output_type": "execute_result"
    }
   ],
   "source": [
    "splits[3]"
   ]
  },
  {
   "cell_type": "code",
   "execution_count": null,
   "id": "eb704ae0-920b-4b05-a9a4-71fbec27d806",
   "metadata": {},
   "outputs": [],
   "source": [
    "embedding = OpenAIEmbeddings()"
   ]
  },
  {
   "cell_type": "code",
   "execution_count": 12,
   "id": "4751ef4c-87fc-4c74-b6a3-8b47a1ee9057",
   "metadata": {},
   "outputs": [],
   "source": [
    "persist_directory = 'docs/chroma/financialgpt'"
   ]
  },
  {
   "cell_type": "code",
   "execution_count": 11,
   "id": "d14a3768-0f30-485d-b952-70e36305eeae",
   "metadata": {},
   "outputs": [],
   "source": [
    "# # Remove old database files if any\n",
    "# shutil.rmtree('./docs/chroma', ignore_errors=True)"
   ]
  },
  {
   "cell_type": "code",
   "execution_count": 13,
   "id": "fb9bbe8d-f3df-4792-9f93-abdbe9455499",
   "metadata": {},
   "outputs": [],
   "source": [
    "vectordb = Chroma.from_documents(\n",
    "    documents=splits,\n",
    "    embedding=embedding,\n",
    "    persist_directory=persist_directory\n",
    ")"
   ]
  },
  {
   "cell_type": "code",
   "execution_count": 14,
   "id": "7f6191f7-9d9b-4981-9ea9-3e4cdaa8aa73",
   "metadata": {},
   "outputs": [],
   "source": [
    "vectordb.persist() \n",
    "\n",
    "#lưu vectordb"
   ]
  }
 ],
 "metadata": {
  "kernelspec": {
   "display_name": "Python 3 (ipykernel)",
   "language": "python",
   "name": "python3"
  },
  "language_info": {
   "codemirror_mode": {
    "name": "ipython",
    "version": 3
   },
   "file_extension": ".py",
   "mimetype": "text/x-python",
   "name": "python",
   "nbconvert_exporter": "python",
   "pygments_lexer": "ipython3",
   "version": "3.10.6"
  }
 },
 "nbformat": 4,
 "nbformat_minor": 5
}
