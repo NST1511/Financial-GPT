{
 "cells": [
  {
   "cell_type": "code",
   "execution_count": 28,
   "id": "489616ab-e2a4-48a7-b6df-c0f88b107b89",
   "metadata": {},
   "outputs": [],
   "source": [
    "import base64\n",
    "import os\n",
    "from pathlib import Path\n",
    "from langchain.chat_models import ChatOpenAI\n",
    "\n",
    "from langchain_core.messages import HumanMessage\n",
    "input_dir = Path.cwd() \n",
    "\n",
    "def encode_image(image_path):\n",
    "    \"\"\"Getting the base64 string\"\"\"\n",
    "    with open(image_path, \"rb\") as image_file:\n",
    "        return base64.b64encode(image_file.read()).decode(\"utf-8\")\n",
    "\n",
    "\n",
    "def image_summarize(img_base64, prompt):\n",
    "    \"\"\"Make image summary\"\"\"\n",
    "    chat = ChatOpenAI(model=\"gpt-4-vision-preview\", max_tokens=1024)\n",
    "\n",
    "    msg = chat.invoke(\n",
    "        [\n",
    "            HumanMessage(\n",
    "                content=[\n",
    "                    {\"type\": \"text\", \"text\": prompt},\n",
    "                    {\n",
    "                        \"type\": \"image_url\",\n",
    "                        \"image_url\": {\"url\": f\"data:image/jpeg;base64,{img_base64}\"},\n",
    "                    },\n",
    "                ]\n",
    "            )\n",
    "        ]\n",
    "    )\n",
    "    return msg.content\n",
    "\n",
    "\n",
    "def generate_img_summaries(path):\n",
    "    \"\"\"\n",
    "    Generate summaries and base64 encoded strings for images\n",
    "    path: Path to list of .jpg files extracted by Unstructured\n",
    "    \"\"\"\n",
    "\n",
    "    # Store base64 encoded images\n",
    "    img_base64_list = []\n",
    "\n",
    "    # Store image summaries\n",
    "    image_summaries = []\n",
    "\n",
    "    # Prompt\n",
    "    prompt = \"\"\"You are an assistant tasked with analyzing time series data. \\\n",
    "    Give insights on the correlation and interactions between data, then try to deduce the reasons for the the relationship between federal interest rates and usd/sgd using supplementary sources from the internet. \\\n",
    "    In addition, give a concise summary of the image that is well optimized for retrieval.\"\"\"\n",
    "\n",
    "    # Apply to images\n",
    "    for img_file in sorted(os.listdir(path)):\n",
    "        if img_file.endswith(\".png\"):\n",
    "            img_path = os.path.join(path, img_file)\n",
    "            base64_image = encode_image(img_path)\n",
    "            img_base64_list.append(base64_image)\n",
    "            image_summaries.append(image_summarize(base64_image, prompt))\n",
    "\n",
    "    return img_base64_list, image_summaries\n",
    "\n",
    "\n",
    "# Image summaries\n",
    "img_base64_list, image_summaries = generate_img_summaries(input_dir)"
   ]
  },
  {
   "cell_type": "code",
   "execution_count": 29,
   "id": "82720e1f-bf4d-4902-8b99-35f3788db606",
   "metadata": {},
   "outputs": [
    {
     "data": {
      "text/plain": [
       "['For analyzing the time series data shown in the image, we can make a few observations regarding the correlation and interactions between the federal interest rates (represented by the blue line) and the USD/SGD exchange rate (represented by the green line). The red vertical dashed lines appear to represent the dates of FOMC (Federal Open Market Committee) meetings.\\n\\nRegarding the correlation between the two data sets, we can observe that:\\n\\n1. There appears to be an inverse relationship between the federal interest rates and the USD/SGD exchange rate. Typically, when interest rates rise, we would expect the currency value to increase as well, because higher rates provide a better return on investments denominated in that currency. However, this chart seems to show periods where the USD/SGD exchange rate decreases as the interest rate increases.\\n\\n2. The most significant observation is the sharp increase in the federal interest rate in early 2020, which coincides with a sharp increase in the USD/SGD exchange rate. This could be due to the global financial uncertainty around the beginning of the COVID-19 pandemic, where there might have been a flight to the safety of the US dollar, causing it to appreciate against many currencies including the Singapore dollar.\\n\\n3. Post the sharp peak in early 2020, as the federal interest rates are reduced, we see a general decline in the USD/SGD rate, which aligns with typical expectations—lower interest rates can lead to a weaker currency as investors seek higher yields elsewhere.\\n\\n4. The time series data also shows that around FOMC meeting dates, there are often notable movements in the exchange rate, which suggests that market participants react to the policy decisions and forward guidance provided by the committee.\\n\\nThe relationship between federal interest rates and the USD/SGD exchange rate can be influenced by various factors, including monetary policy, economic data releases, market sentiment, and global financial events. Higher interest rates in the US could attract more foreign capital, increasing demand for the USD and causing it to appreciate against other currencies, including the SGD. Conversely, lower interest rates could lead to capital outflows as investors seek higher yields elsewhere.\\n\\nAs for the image, here is a concise summary optimized for retrieval:\\n\\nThe image presents a time series graph comparing the trend of the federal interest rates (Fed Funds Rate - FFR) against the USD/SGD exchange rate from early 2019 to early 2023. The FFR is illustrated by a blue line, while the USD/SGD exchange rate is depicted by a green line. Red vertical dashed lines indicate the dates of the Federal Open Market Committee (FOMC) meetings. The data points show an inverse relationship where typically, a rise in FFR correlates with a decrease in the USD/SGD rate, with notable volatility around the FOMC meeting dates. The graph highlights a significant peak in both the FFR and USD/SGD exchange rate during the early 2020 period, which then declines as the FFR decreases.']"
      ]
     },
     "execution_count": 29,
     "metadata": {},
     "output_type": "execute_result"
    }
   ],
   "source": [
    "image_summaries"
   ]
  }
 ],
 "metadata": {
  "kernelspec": {
   "display_name": "Python 3 (ipykernel)",
   "language": "python",
   "name": "python3"
  },
  "language_info": {
   "codemirror_mode": {
    "name": "ipython",
    "version": 3
   },
   "file_extension": ".py",
   "mimetype": "text/x-python",
   "name": "python",
   "nbconvert_exporter": "python",
   "pygments_lexer": "ipython3",
   "version": "3.10.6"
  }
 },
 "nbformat": 4,
 "nbformat_minor": 5
}
