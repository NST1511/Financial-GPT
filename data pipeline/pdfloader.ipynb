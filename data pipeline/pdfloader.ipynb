{
 "cells": [
  {
   "cell_type": "code",
   "execution_count": 1,
   "id": "faf9f7a7-892f-43e5-ae3d-5b124988714d",
   "metadata": {},
   "outputs": [],
   "source": [
    "from pathlib import Path\n",
    "\n",
    "import pdfplumber\n",
    "import pandas as pd\n",
    "import json"
   ]
  },
  {
   "cell_type": "code",
   "execution_count": 25,
   "id": "10b00362-0eb5-4c16-b9cf-e05e3172ce73",
   "metadata": {},
   "outputs": [
    {
     "name": "stdout",
     "output_type": "stream",
     "text": [
      "^C\n"
     ]
    }
   ],
   "source": [
    "!pip uninstall camelot"
   ]
  },
  {
   "cell_type": "code",
   "execution_count": 28,
   "id": "11e90809-94f1-4732-8971-56c14b102ce2",
   "metadata": {},
   "outputs": [],
   "source": [
    "input_file_path = Path.cwd().parent / \"input data\""
   ]
  },
  {
   "cell_type": "markdown",
   "id": "7595f546-0874-46be-bd48-5c02b43a6843",
   "metadata": {
    "tags": []
   },
   "source": [
    "# Get tables"
   ]
  },
  {
   "cell_type": "code",
   "execution_count": 4,
   "id": "d9fecf74-1255-48d3-8a0d-1fcea25c80bf",
   "metadata": {},
   "outputs": [],
   "source": [
    "def detect_table (page, table_setting_list): \n",
    "    best_table_settings = None\n",
    "    best_table_len = float('-inf')\n",
    "    \n",
    "    for ts in table_settings_list:\n",
    "        tables = page.extract_tables(table_settings=ts)\n",
    "        tables_len = []\n",
    "        for table in tables:\n",
    "            tables_len.append(len(table))\n",
    "\n",
    "        if max(tables_len) > best_table_len:\n",
    "            best_table_len = max(tables_len)\n",
    "            best_table = table\n",
    "            best_table_setting = ts\n",
    "            \n",
    "    return best_table_setting #best table setting for a page"
   ]
  },
  {
   "cell_type": "code",
   "execution_count": 5,
   "id": "23eeed91-bf3c-4b6e-8624-2f42c92dc171",
   "metadata": {
    "tags": []
   },
   "outputs": [],
   "source": [
    "def get_table(page,best_table_setting): #for long-format tables\n",
    "\n",
    "    tables = page.extract_tables(table_settings=best_table_setting)\n",
    "    \n",
    "    tables_str = [] \n",
    "    \n",
    "    for table in tables:\n",
    "        headers =  table[0]\n",
    "        rows = table[1:]\n",
    "        \n",
    "        table_str = {} \n",
    "        for row in rows:\n",
    "            table_str[row[0]] = {}\n",
    "            for i in range(1,len(row)):\n",
    "                table_str[row[0]][headers[i]] = row[i]\n",
    "        tables_str.append(table_str)\n",
    "        \n",
    "    return tables_str"
   ]
  },
  {
   "cell_type": "code",
   "execution_count": 8,
   "id": "20d5d1e8-e55f-4bfe-886d-d837696144f5",
   "metadata": {
    "tags": []
   },
   "outputs": [
    {
     "name": "stdout",
     "output_type": "stream",
     "text": [
      "Best table settings:  {'vertical_strategy': 'lines', 'horizontal_strategy': 'lines', 'snap_tolerance': 10, 'intersection_tolerance': 30}\n",
      "List of tables in page:  1\n",
      "[{'Duong Dinh R\\nSenior Manager\\nduong.dinh@18v cMsca.rccohm 2.v0n1 1\\n+84 28 3914 3588 ext. 140 V\\nstr\\nYo\\nw\\nfol\\nT\\n20\\nPr\\nB\\nw': {}}, {None: {None: None, 'gure 1: W\\nState\\nO’ship': 'gure 2: W\\nEPS g\\n2023F', 'ater com\\nForeign\\nLimit %': 'ater com\\nEPS g\\n2024F', 'panies –\\nForeign\\nAvail': 'panies –\\nP/E TTM\\n(x)', 'Key data\\nADTV\\n30D': 'Summar\\nP/E\\n2022 (x)'}, 'BWE\\nTDM': {None: '63.3%\\n12.9%', 'gure 1: W\\nState\\nO’ship': '%\\n14.7%\\n39.3%', 'ater com\\nForeign\\nLimit %': '%\\n50.3%\\n25.9%', 'panies –\\nForeign\\nAvail': '13.4x\\n18.0x', 'Key data\\nADTV\\n30D': '13.4x\\n18.0x'}}]\n"
     ]
    }
   ],
   "source": [
    "table_settings_list = [\n",
    "    {\"vertical_strategy\": \"text\", \"horizontal_strategy\": \"text\", \"snap_tolerance\": 10, \"intersection_tolerance\": 150},\n",
    "    {\"vertical_strategy\": \"text\", \"horizontal_strategy\": \"text\", \"snap_tolerance\": 10, \"intersection_tolerance\": 30},\n",
    "    {\"vertical_strategy\": \"lines\", \"horizontal_strategy\": \"lines\", \"snap_tolerance\": 10, \"intersection_tolerance\": 30},\n",
    "\n",
    "]\n",
    "\n",
    "with pdfplumber.open(input_file_path / \"pdfwithtable_easy.pdf\") as pdf:\n",
    "    pages = pdf.pages\n",
    "    \n",
    "    for idx, page in enumerate(pages[0:1],1):\n",
    "        im = page.to_image()\n",
    "        best_setting = detect_table(page,table_settings_list)\n",
    "        im.reset().debug_tablefinder(best_setting).show()\n",
    "        tables = get_table(page,best_setting)\n",
    "        print(\"Best table settings: \", best_setting)\n",
    "        print(\"List of tables in page: \",idx )\n",
    "        print(tables)"
   ]
  },
  {
   "cell_type": "markdown",
   "id": "54d891a1-fcd6-42e6-b403-642ec6fc8f69",
   "metadata": {},
   "source": [
    "# Get text"
   ]
  },
  {
   "cell_type": "code",
   "execution_count": 35,
   "id": "a03f82fc-9f1d-4828-8729-b776fadd0d05",
   "metadata": {},
   "outputs": [
    {
     "name": "stdout",
     "output_type": "stream",
     "text": [
      "Water Sector Sector Update\n",
      "Duong Dinh Residential segment to support volume growth\n",
      "Senior Manager\n",
      "duong.dinh@18v cMsca.rccohm 2.v0n1 1\n",
      "+84 28 3914 3588 ext. 140 Volume continues to grow, supporting BWE and TDM’s 2023 profit. This growth will be led by\n",
      "strong residential water demand. We lower our projected 2023 volume growth for BWE from 12%\n",
      "YoY to 7% YoY, which is driven by 9% YoY residential water volume growth and 5% YoY industrial\n",
      "water volume growth. For TDM, we raise our projected 2023 volume to 79 million cbm (+13% YoY)\n",
      "following its 2022 results that beat our expectations. We attribute the stronger volume growth for\n",
      "TDM vs BWE in 2022-2023 to 1) TDM being impacted more severely compared to BWE in 2020-\n",
      "2021, and 2) TDM’s major water plants being in the most populated industrial hub of Binh Duong\n",
      "Province (Di An District), which faces less risk of an economic slowdown compared to other districts.\n",
      "BWE to acquire a 20%-100% stake in four water companies in Long An Province and one\n",
      "water company in Quang Binh Province, providing potential upside to our valuation. On\n",
      "February 8, BWE announced a BOD resolution to acquire a 20%-100% stake of DNP Long An\n",
      "Water Infrastructure JSC (Long An Water), which possesses the Nhi Thanh water processing plant\n",
      "(capacity of 60,000 cbm/day) and has secured land bank to double its capacity to 120,000 cbm/day\n",
      "— ~15% of BWE’s capacity. According to BWE, Long An Water has a ~50%-60% market share.\n",
      "The price and timeline for this acquisition have not been specified. On February 10, BWE\n",
      "announced it would acquire 50%-100% stakes in four additional water companies in order to\n",
      "consolidate revenue and profit when these deals are successful. These companies include three in\n",
      "Long An Province (Chau Thanh Urban Construction JSC, Can Giuoc Urban Construction JSC and\n",
      "Bang Tam Water & Environment JSC) and one in Quang Binh Province (DNP Quang Binh Water\n",
      "Infra JSC). Additional details about these acquisitions were not disclosed. The acquisitions are in\n",
      "line with BWE’s strategy to expand its water business beyond southeastern Vietnam to the\n",
      "southwestern and central regions. According to BWE, Long An’s water industry has bright prospects\n",
      "from rapid urbanization and population growth, increasing frequency of drought and saltwater\n",
      "intrusion leading to strong demand for clean water, and a projected 2020-2030F CAGR of 5%. In\n",
      "addition, BWE expects that industrial water demand could double over the next 10 years.\n",
      "We lower our target price for BWE by 2% to VND50,700/share and downgrade our rating from\n",
      "BUY to OUTPERFORM as the company’s share price has increased 35% over the past three\n",
      "months. Our lower TP is due to a 4% decrease in our aggregate earnings forecast in 2023-2027F\n",
      "following our lower water volume assumption.\n",
      "We raise target price for TDM by 1% to VND44,600/share and maintain BUY rating. Our higher\n",
      "TP is due to a 2% increase in 2023-2027F aggregate NPAT forecast given higher projected volume.\n",
      "Figure 1: Water companies – Key data\n",
      "Market State Foreign ADTV Share Target Target Div\n",
      "Foreign Upside 12M\n",
      "Code Rating Cap O’ship Avail 30D price price, price, yield\n",
      "Limit % % TSR %\n",
      "USD mn % USD mn USD mn VND ps VND ps updated %\n",
      "BWE O-PF 384 19% 50% 128 0.3 46,500 50,700 2/14/2023 9.0% 2.6% 11.6%\n",
      "TDM BUY 155 0% 50% 53 0.2 36,500 44,600 2/14/2023 22.2% 3.3% 25.5%\n",
      "Figure 2: Water companies – Summary valuations, based on reported NPAT\n",
      "Share EPS g EPS g P/E P/E EV/ ROE\n",
      "EPS g P/E TTM P/E P/B LQ Net D/E\n",
      "Code price, 2023F 2024F 2023F 2024F EBITDA 2023F\n",
      "2022 % (x) 2022 (x) (x) LQ %\n",
      "VND ps % % (x) (x) 2023F (x) %\n",
      "BWE 46,500 -0.8% 14.7% 50.3% 13.4x 13.4x 12.7x 8.4x 7.3x 17.9% 1.6 63.3%\n",
      "TDM 36,500 -32.9% 39.3% 25.9% 18.0x 18.0x 12.9x 10.3x 7.2x 15.4% 1.7 12.9%\n",
      "Source: Bloomberg, VCSC (data as of February 13, 2023)\n",
      "See important disclosure at the end of this document www.vcsc.com.vn | VCSC<GO> February 14, 2023 | 1\n",
      "Industry Update\n",
      "Binh Duong Province set its 2023 GRDP target slightly higher than that of\n",
      "2022\n",
      "Binh Duong’s 2022 GRDP increased 8.3% YoY as all three main sectors of the economy\n",
      "performed strongly. Specifically, the agricultural sector rose 3.1% YoY, the industrial-construction\n",
      "sector rose 8.2% YoY and the services sector rose 9.5% YoY.\n",
      "Provincial leaders set 2023 targets for GRDP to increase 8.5%-8.7% YoY and the Index of\n",
      "Industrial Production (IIP) to rise 8.9% YoY. Core tasks in 2023 include progressing with a modern\n",
      "provincial road transport infrastructure network and facilitating interregional connections. The focus\n",
      "is on the Ring Road No. 3 project, the HCMC – Thu Dau Mot - Chon Thanh – Binh Phuoc\n",
      "Expressway, the Bau Bang – Cai Mep (Vung Tau) railway and the Song Than Intersection.\n",
      "An all-time high amount of high public investment in 2023 will accelerate key infrastructure\n",
      "projects. According to the provincial People’s Committee’s statement on February 7, Binh Duong\n",
      "Province has been assigned to disburse nearly VND21.8tn (USD909million) of public investment\n",
      "capital in 2023. In January 2023, the public investment index jumped 63.6% YoY to VND545bn to\n",
      "boost investment in major transport projects.\n",
      "According to the General Statistics Office of Vietnam, Binh Duong’s socioeconomic\n",
      "indicators were weak in January 2023 as IIP slumped 11.2% YoY, which was mainly due to a\n",
      "lower amount of industrial activities during the Tet Holiday. Meanwhile, the total retail sales of good\n",
      "& services in January 2023 increased 14.1% YoY to VND25tn, which was driven by higher\n",
      "consumption demand. Furthermore, 86% of laborers returned to work in Binh Duong Province after\n",
      "Tet as 87% of enterprises commenced reoperation. However, the employment index declined by\n",
      "0.5% YoY primarily due to fewer workers in the State-owned business sector (-15.5% YoY); non-\n",
      "state businesses fell by 3.9% and FDI enterprises rose by 0.7%.\n",
      "Binh Duong is among Vietnam’s top five provinces for attracting new FDI registrations over\n",
      "the past five years and has one of the largest industrial zones in Vietnam.\n",
      "Binh Duong ranked second among provinces in FDI attraction nationwide with 2022 FDI inflows of\n",
      "USD3.1bn (+48.8% YoY) thanks to large-scale investment projects of LEGO (total capital of\n",
      "USD1.3bn) and Pandora Group (capital expenditure of more than USD100mn).\n",
      "In the long term, we expect Binh Duong’s industrial water demand will improve due to the rapid\n",
      "expansion of industrial production as new industrial parks come into operation in 2022-2025F,\n",
      "including the Vietnam Singapore Industrial Park (VSIP) III (1,000 ha) in Tan Uyen District and Cay\n",
      "Truong Industrial Park (1,000 ha) in Bau Bang District.\n",
      "We expect population growth and migration will increase Binh Duong's residential water demand,\n",
      "particularly in HCMC's suburbs like Di An Ward. In June 2022, the National Congress issued an\n",
      "investment approval for the 76-km Ring Road No. 3 project that will connect HCMC with Dong Nai,\n",
      "Long An and Binh Duong province. Binh Duong Province targets to commence construction by April\n",
      "30, 2023, to ensure the progress of the project.\n",
      "See important disclosure at the end of this document www.vcsc.com.vn | VCSC<GO> February 14, 2023 | 2\n"
     ]
    }
   ],
   "source": [
    "with pdfplumber.open(input_file_path / \"pdfwithtable_easy.pdf\") as pdf:\n",
    "    pages = pdf.pages[0:2]\n",
    "    for page in pages:\n",
    "        print(page.extract_text())"
   ]
  },
  {
   "cell_type": "code",
   "execution_count": null,
   "id": "33b9422e-36ef-4698-a222-da497401bfbc",
   "metadata": {},
   "outputs": [],
   "source": []
  }
 ],
 "metadata": {
  "kernelspec": {
   "display_name": "Python 3 (ipykernel)",
   "language": "python",
   "name": "python3"
  },
  "language_info": {
   "codemirror_mode": {
    "name": "ipython",
    "version": 3
   },
   "file_extension": ".py",
   "mimetype": "text/x-python",
   "name": "python",
   "nbconvert_exporter": "python",
   "pygments_lexer": "ipython3",
   "version": "3.10.6"
  }
 },
 "nbformat": 4,
 "nbformat_minor": 5
}
